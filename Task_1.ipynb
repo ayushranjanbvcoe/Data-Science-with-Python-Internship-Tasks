{
 "cells": [
  {
   "cell_type": "code",
   "execution_count": 3,
   "id": "8d0ff004",
   "metadata": {},
   "outputs": [
    {
     "name": "stdout",
     "output_type": "stream",
     "text": [
      "Original list: [1, 2, 3]\n",
      "List after adding an element: [1, 2, 3, 4]\n",
      "List after removing an element: [1, 3, 4]\n",
      "List after modifying an element: [1, 5, 4]\n"
     ]
    }
   ],
   "source": [
    "# Creating a list\n",
    "my_list = [1, 2, 3]\n",
    "\n",
    "# Basic operations on a list\n",
    "print(\"Original list:\", my_list)\n",
    "\n",
    "# Adding an element to the list\n",
    "my_list.append(4)\n",
    "print(\"List after adding an element:\", my_list)\n",
    "\n",
    "# Removing an element from the list\n",
    "my_list.remove(2)\n",
    "print(\"List after removing an element:\", my_list)\n",
    "\n",
    "# Modifying an element in the list\n",
    "my_list[1] = 5\n",
    "print(\"List after modifying an element:\", my_list)"
   ]
  },
  {
   "cell_type": "code",
   "execution_count": 4,
   "id": "872e5a9e",
   "metadata": {},
   "outputs": [
    {
     "name": "stdout",
     "output_type": "stream",
     "text": [
      "\n",
      "Original dictionary: {'a': 1, 'b': 2, 'c': 3}\n",
      "Dictionary after adding an element: {'a': 1, 'b': 2, 'c': 3, 'd': 4}\n",
      "Dictionary after removing an element: {'a': 1, 'c': 3, 'd': 4}\n",
      "Dictionary after modifying an element: {'a': 10, 'c': 3, 'd': 4}\n"
     ]
    }
   ],
   "source": [
    "# Creating a dictionary\n",
    "my_dict = {'a': 1, 'b': 2, 'c': 3}\n",
    "\n",
    "# Basic operations on a dictionary\n",
    "print(\"\\nOriginal dictionary:\", my_dict)\n",
    "\n",
    "# Adding an element to the dictionary\n",
    "my_dict['d'] = 4\n",
    "print(\"Dictionary after adding an element:\", my_dict)\n",
    "\n",
    "# Removing an element from the dictionary\n",
    "del my_dict['b']\n",
    "print(\"Dictionary after removing an element:\", my_dict)\n",
    "\n",
    "# Modifying an element in the dictionary\n",
    "my_dict['a'] = 10\n",
    "print(\"Dictionary after modifying an element:\", my_dict)"
   ]
  },
  {
   "cell_type": "code",
   "execution_count": 5,
   "id": "dfe5ee6e",
   "metadata": {},
   "outputs": [
    {
     "name": "stdout",
     "output_type": "stream",
     "text": [
      "\n",
      "Original set: {1, 2, 3}\n",
      "Set after adding an element: {1, 2, 3, 4}\n",
      "Set after removing an element: {1, 3, 4}\n"
     ]
    }
   ],
   "source": [
    "# Creating a set\n",
    "my_set = {1, 2, 3}\n",
    "\n",
    "# Basic operations on a set\n",
    "print(\"\\nOriginal set:\", my_set)\n",
    "\n",
    "# Adding an element to the set\n",
    "my_set.add(4)\n",
    "print(\"Set after adding an element:\", my_set)\n",
    "\n",
    "# Removing an element from the set\n",
    "my_set.remove(2)\n",
    "print(\"Set after removing an element:\", my_set)"
   ]
  },
  {
   "cell_type": "code",
   "execution_count": null,
   "id": "bab082f2",
   "metadata": {},
   "outputs": [],
   "source": []
  }
 ],
 "metadata": {
  "kernelspec": {
   "display_name": "Python 3 (ipykernel)",
   "language": "python",
   "name": "python3"
  },
  "language_info": {
   "codemirror_mode": {
    "name": "ipython",
    "version": 3
   },
   "file_extension": ".py",
   "mimetype": "text/x-python",
   "name": "python",
   "nbconvert_exporter": "python",
   "pygments_lexer": "ipython3",
   "version": "3.11.3"
  }
 },
 "nbformat": 4,
 "nbformat_minor": 5
}
